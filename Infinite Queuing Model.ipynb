{
 "cells": [
  {
   "cell_type": "code",
   "execution_count": null,
   "id": "d17f605c-dd2a-4033-84fc-6a96bea583f0",
   "metadata": {},
   "outputs": [],
   "source": [
    "import math\n",
    "\n",
    "def calculate_queue_metrics(arrival_rate, service_rate, n):\n",
    "    pho = arrival_rate / service_rate\n",
    "    p = 1 - pho\n",
    "    ans = math.pow(p, n) * (p)\n",
    "    len_of_system = pho / (1 - pho)\n",
    "    len_of_queue = len_of_system - pho\n",
    "    wait_of_system = len_of_system / arrival_rate\n",
    "    wait_of_queue = len_of_queue / arrival_rate\n",
    "\n",
    "    return ans, len_of_system, len_of_queue, wait_of_system, wait_of_queue\n",
    "\n",
    "def main():\n",
    "    # Input parameters\n",
    "    arrival_rate = float(input(\"Enter arrival rate (people per time unit): \"))\n",
    "    service_rate = float(input(\"Enter service rate (people per time unit): \"))\n",
    "    n = int(input(\"Enter number of people (n): \"))\n",
    "\n",
    "    # Calculate queue metrics\n",
    "    ans, len_of_system, len_of_queue, wait_of_system, wait_of_queue = calculate_queue_metrics(arrival_rate, service_rate, n)\n",
    "\n",
    "    # Display results\n",
    "    print(f\"For {n} number of people, the answer is {ans}\")\n",
    "    print(f\"Length of System: {len_of_system:.2f} units\")\n",
    "    print(f\"Length of Queue: {len_of_queue:.2f} units\")\n",
    "    print(f\"Waiting Time of System: {wait_of_system:.2f} time units\")\n",
    "    print(f\"Waiting Time of Queue: {wait_of_queue:.2f} time units\")\n",
    "\n",
    "if __name__ == \"__main__\":\n",
    "    main()\n"
   ]
  }
 ],
 "metadata": {
  "kernelspec": {
   "display_name": "Python 3 (ipykernel)",
   "language": "python",
   "name": "python3"
  },
  "language_info": {
   "codemirror_mode": {
    "name": "ipython",
    "version": 3
   },
   "file_extension": ".py",
   "mimetype": "text/x-python",
   "name": "python",
   "nbconvert_exporter": "python",
   "pygments_lexer": "ipython3",
   "version": "3.12.3"
  }
 },
 "nbformat": 4,
 "nbformat_minor": 5
}
